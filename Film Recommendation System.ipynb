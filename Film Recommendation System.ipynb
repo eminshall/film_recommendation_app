{
 "cells": [
  {
   "cell_type": "code",
   "execution_count": 9,
   "id": "f5740dbf",
   "metadata": {},
   "outputs": [],
   "source": [
    "# Import python libraries\n",
    "import numpy  as np\n",
    "import pandas as pd\n",
    "\n",
    "# Load dataset to pandas dataframe\n",
    "movies = pd.read_csv(r\"C:\\Users\\evere\\Film Recomendation Project\\data\\ml-25m\\movies.csv\")\n",
    "ratings = pd.read_csv(r\"C:\\Users\\evere\\Film Recomendation Project\\data\\ml-25m\\ratings.csv\")\n",
    "tags = pd.read_csv(r\"C:\\Users\\evere\\Film Recomendation Project\\data\\ml-25m\\tags.csv\")"
   ]
  },
  {
   "cell_type": "code",
   "execution_count": 23,
   "id": "30d990dc",
   "metadata": {},
   "outputs": [
    {
     "data": {
      "text/html": [
       "<div>\n",
       "<style scoped>\n",
       "    .dataframe tbody tr th:only-of-type {\n",
       "        vertical-align: middle;\n",
       "    }\n",
       "\n",
       "    .dataframe tbody tr th {\n",
       "        vertical-align: top;\n",
       "    }\n",
       "\n",
       "    .dataframe thead th {\n",
       "        text-align: right;\n",
       "    }\n",
       "</style>\n",
       "<table border=\"1\" class=\"dataframe\">\n",
       "  <thead>\n",
       "    <tr style=\"text-align: right;\">\n",
       "      <th></th>\n",
       "      <th>movieId</th>\n",
       "      <th>title</th>\n",
       "      <th>genres</th>\n",
       "    </tr>\n",
       "  </thead>\n",
       "  <tbody>\n",
       "    <tr>\n",
       "      <th>0</th>\n",
       "      <td>1</td>\n",
       "      <td>Toy Story (1995)</td>\n",
       "      <td>Adventure|Animation|Children|Comedy|Fantasy</td>\n",
       "    </tr>\n",
       "    <tr>\n",
       "      <th>1</th>\n",
       "      <td>2</td>\n",
       "      <td>Jumanji (1995)</td>\n",
       "      <td>Adventure|Children|Fantasy</td>\n",
       "    </tr>\n",
       "    <tr>\n",
       "      <th>2</th>\n",
       "      <td>3</td>\n",
       "      <td>Grumpier Old Men (1995)</td>\n",
       "      <td>Comedy|Romance</td>\n",
       "    </tr>\n",
       "    <tr>\n",
       "      <th>3</th>\n",
       "      <td>4</td>\n",
       "      <td>Waiting to Exhale (1995)</td>\n",
       "      <td>Comedy|Drama|Romance</td>\n",
       "    </tr>\n",
       "    <tr>\n",
       "      <th>4</th>\n",
       "      <td>5</td>\n",
       "      <td>Father of the Bride Part II (1995)</td>\n",
       "      <td>Comedy</td>\n",
       "    </tr>\n",
       "  </tbody>\n",
       "</table>\n",
       "</div>"
      ],
      "text/plain": [
       "   movieId                               title  \\\n",
       "0        1                    Toy Story (1995)   \n",
       "1        2                      Jumanji (1995)   \n",
       "2        3             Grumpier Old Men (1995)   \n",
       "3        4            Waiting to Exhale (1995)   \n",
       "4        5  Father of the Bride Part II (1995)   \n",
       "\n",
       "                                        genres  \n",
       "0  Adventure|Animation|Children|Comedy|Fantasy  \n",
       "1                   Adventure|Children|Fantasy  \n",
       "2                               Comedy|Romance  \n",
       "3                         Comedy|Drama|Romance  \n",
       "4                                       Comedy  "
      ]
     },
     "execution_count": 23,
     "metadata": {},
     "output_type": "execute_result"
    }
   ],
   "source": [
    "movies.head()"
   ]
  },
  {
   "cell_type": "code",
   "execution_count": 60,
   "id": "d1171369",
   "metadata": {},
   "outputs": [
    {
     "data": {
      "text/html": [
       "<div>\n",
       "<style scoped>\n",
       "    .dataframe tbody tr th:only-of-type {\n",
       "        vertical-align: middle;\n",
       "    }\n",
       "\n",
       "    .dataframe tbody tr th {\n",
       "        vertical-align: top;\n",
       "    }\n",
       "\n",
       "    .dataframe thead th {\n",
       "        text-align: right;\n",
       "    }\n",
       "</style>\n",
       "<table border=\"1\" class=\"dataframe\">\n",
       "  <thead>\n",
       "    <tr style=\"text-align: right;\">\n",
       "      <th></th>\n",
       "      <th>movieId</th>\n",
       "      <th>title</th>\n",
       "      <th>genres</th>\n",
       "      <th>tag</th>\n",
       "    </tr>\n",
       "  </thead>\n",
       "  <tbody>\n",
       "    <tr>\n",
       "      <th>0</th>\n",
       "      <td>1</td>\n",
       "      <td>Toy Story (1995)</td>\n",
       "      <td>Adventure|Animation|Children|Comedy|Fantasy</td>\n",
       "      <td>Owned</td>\n",
       "    </tr>\n",
       "    <tr>\n",
       "      <th>1</th>\n",
       "      <td>1</td>\n",
       "      <td>Toy Story (1995)</td>\n",
       "      <td>Adventure|Animation|Children|Comedy|Fantasy</td>\n",
       "      <td>imdb top 250</td>\n",
       "    </tr>\n",
       "    <tr>\n",
       "      <th>2</th>\n",
       "      <td>1</td>\n",
       "      <td>Toy Story (1995)</td>\n",
       "      <td>Adventure|Animation|Children|Comedy|Fantasy</td>\n",
       "      <td>Pixar</td>\n",
       "    </tr>\n",
       "    <tr>\n",
       "      <th>3</th>\n",
       "      <td>1</td>\n",
       "      <td>Toy Story (1995)</td>\n",
       "      <td>Adventure|Animation|Children|Comedy|Fantasy</td>\n",
       "      <td>Pixar</td>\n",
       "    </tr>\n",
       "    <tr>\n",
       "      <th>4</th>\n",
       "      <td>1</td>\n",
       "      <td>Toy Story (1995)</td>\n",
       "      <td>Adventure|Animation|Children|Comedy|Fantasy</td>\n",
       "      <td>time travel</td>\n",
       "    </tr>\n",
       "  </tbody>\n",
       "</table>\n",
       "</div>"
      ],
      "text/plain": [
       "   movieId             title                                       genres  \\\n",
       "0        1  Toy Story (1995)  Adventure|Animation|Children|Comedy|Fantasy   \n",
       "1        1  Toy Story (1995)  Adventure|Animation|Children|Comedy|Fantasy   \n",
       "2        1  Toy Story (1995)  Adventure|Animation|Children|Comedy|Fantasy   \n",
       "3        1  Toy Story (1995)  Adventure|Animation|Children|Comedy|Fantasy   \n",
       "4        1  Toy Story (1995)  Adventure|Animation|Children|Comedy|Fantasy   \n",
       "\n",
       "            tag  \n",
       "0         Owned  \n",
       "1  imdb top 250  \n",
       "2         Pixar  \n",
       "3         Pixar  \n",
       "4   time travel  "
      ]
     },
     "execution_count": 60,
     "metadata": {},
     "output_type": "execute_result"
    }
   ],
   "source": [
    "ratings_df = ratings[['movieId','rating']]\n",
    "tags_df = tags[['movieId', 'tag']]\n",
    "\n",
    "movies_df = movies.merge(tags_df, on=['movieId'], how='inner')\n",
    "\n",
    "movies_df.head()"
   ]
  },
  {
   "cell_type": "code",
   "execution_count": 61,
   "id": "1b6daff1",
   "metadata": {},
   "outputs": [],
   "source": [
    "movies_df.isnull().sum()\n",
    "movies_df.dropna(inplace=True)"
   ]
  },
  {
   "cell_type": "code",
   "execution_count": 62,
   "id": "752c5a5d",
   "metadata": {},
   "outputs": [],
   "source": [
    "movies_df.duplicated().sum()\n",
    "movies_df = movies_df.drop_duplicates()"
   ]
  },
  {
   "cell_type": "code",
   "execution_count": 64,
   "id": "41df02e5",
   "metadata": {},
   "outputs": [],
   "source": [
    "ratings_df = ratings_df.drop_duplicates()\n",
    "movies_df = movies_df.merge(ratings_df, on=['movieId'], how='inner')"
   ]
  },
  {
   "cell_type": "code",
   "execution_count": 73,
   "id": "b38b9438",
   "metadata": {},
   "outputs": [],
   "source": [
    "experiement = movies_df[movies_df['movieId'] == 1]"
   ]
  },
  {
   "cell_type": "code",
   "execution_count": 75,
   "id": "60c07f7a",
   "metadata": {},
   "outputs": [
    {
     "data": {
      "text/plain": [
       "array(['Owned', 'imdb top 250', 'Pixar', 'time travel', 'children',\n",
       "       'comedy', 'funny', 'witty', 'rated-G', 'animation',\n",
       "       'computer animation', 'good cartoon chindren', 'pixar',\n",
       "       'friendship', 'bright', 'DARING RESCUES', 'fanciful',\n",
       "       'HEROIC MISSION', 'humorous', 'light', 'rousing',\n",
       "       'TOYS COME TO LIFE', 'UNLIKELY FRIENDSHIPS', 'warm', 'Disney',\n",
       "       'boy', 'boy next door', 'bullying', 'friends', 'jealousy',\n",
       "       'martial arts', 'mission', 'neighborhood', 'new toy', 'rescue',\n",
       "       'resourcefulness', 'rivalry', 'toy', 'toy comes to life',\n",
       "       'walkie talkie', 'clever', 'Tom Hanks', 'toys', 'fun', 'dolls',\n",
       "       'National Film Registry', 'adventure', 'animated', 'cgi', 'family',\n",
       "       'fantasy', 'classic', 'Watched', 'action figure', 'action figures',\n",
       "       'Buzz Lightyear', 'CG animation', 'Woody', 'nostalgic',\n",
       "       'Tim Allen', 'childish', 'buddy movie', '3D', 'ya boy', 'cute',\n",
       "       'story', 'voice acting', 'CGI', 'disney', 'toys played', 'cowboy',\n",
       "       'dinosaur', 'fun family movie',\n",
       "       'Best of Rotten Tomatoes: All Time', 'John Lasseter', 'the boys',\n",
       "       'soothing', 'Cartoon', 'kids', 'Disney animated feature',\n",
       "       'Pixar animation', 'TÃ©a Leoni does not star in this movie',\n",
       "       'exciting plot', 'funny lines', 'touching story',\n",
       "       '2009 reissue in Stereoscopic 3-D',\n",
       "       '55 movies every kid should see--Entertainment Weekly', 'BD-Video',\n",
       "       'CLV', 'DVD-Video', 'CGI classic', 'rainy day watchlist',\n",
       "       'villian hurts toys', 'itaege', 'family film', 'animmation', 'avi',\n",
       "       'buy', 'light hearted', 'whimsica', 'great movie',\n",
       "       'kids and family', 'action', 'kids movie', 'favorite',\n",
       "       \"Tumey's To See Again\", \"Tumey's VHS\", 'tim allen', 'tom hanks',\n",
       "       'sci-fi', 'Animation', 'want to see again', 'innovative',\n",
       "       'good time', 'unlikely friendships', 'Engaging', 'Want',\n",
       "       'é˜®ä¸€é¸£', 'first cgi film', 'joss whedon', 'very good',\n",
       "       'cartoon', 'unny', 'USA', 'lots of heart', 'American Animation'],\n",
       "      dtype=object)"
      ]
     },
     "execution_count": 75,
     "metadata": {},
     "output_type": "execute_result"
    }
   ],
   "source": [
    "experiement.tag.unique()"
   ]
  },
  {
   "cell_type": "code",
   "execution_count": 6,
   "id": "2563fe3d",
   "metadata": {},
   "outputs": [
    {
     "data": {
      "text/plain": [
       "(10000, 9)"
      ]
     },
     "execution_count": 6,
     "metadata": {},
     "output_type": "execute_result"
    }
   ],
   "source": [
    "with open('key.txt', 'r') as f:\n",
    "    key = f.readline()\n",
    "    \n",
    "movies = 'https://api.themoviedb.org/3/movie/550?api_key={key}'"
   ]
  },
  {
   "cell_type": "code",
   "execution_count": null,
   "id": "1bfc0ced",
   "metadata": {},
   "outputs": [],
   "source": []
  }
 ],
 "metadata": {
  "kernelspec": {
   "display_name": "Python 3 (ipykernel)",
   "language": "python",
   "name": "python3"
  },
  "language_info": {
   "codemirror_mode": {
    "name": "ipython",
    "version": 3
   },
   "file_extension": ".py",
   "mimetype": "text/x-python",
   "name": "python",
   "nbconvert_exporter": "python",
   "pygments_lexer": "ipython3",
   "version": "3.9.12"
  }
 },
 "nbformat": 4,
 "nbformat_minor": 5
}
